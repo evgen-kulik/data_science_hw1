{
 "cells": [
  {
   "cell_type": "markdown",
   "id": "660ba012-7b74-42c9-b444-535f7ea896a5",
   "metadata": {},
   "source": [
    "# Домашнє завдання № 1"
   ]
  },
  {
   "cell_type": "code",
   "execution_count": 2,
   "id": "800710ca-3687-4a1e-92e6-b60cc0c90977",
   "metadata": {},
   "outputs": [],
   "source": [
    "import numpy as np"
   ]
  },
  {
   "cell_type": "markdown",
   "id": "8d344652-d4a0-4c44-ae5a-0ffb2fb720b0",
   "metadata": {},
   "source": [
    "#### 1. Створіть одновимірний масив (вектор) з першими 10-ма натуральними числами та виведіть його значення."
   ]
  },
  {
   "cell_type": "code",
   "execution_count": 45,
   "id": "2a054910-0857-4d6d-adc1-92e2dc91f2d4",
   "metadata": {},
   "outputs": [
    {
     "name": "stdout",
     "output_type": "stream",
     "text": [
      "a = [ 1  2  3  4  5  6  7  8  9 10]\n"
     ]
    }
   ],
   "source": [
    "a = np.arange(1, 11)\n",
    "print(f'a = {a}')"
   ]
  },
  {
   "cell_type": "markdown",
   "id": "1046f023-8dbb-4aba-ac3c-a49285160b2c",
   "metadata": {},
   "source": [
    "#### 2. Створіть двовимірний масив (матрицю) розміром 3x3, заповніть його нулями та виведіть його значення."
   ]
  },
  {
   "cell_type": "code",
   "execution_count": 93,
   "id": "a62d73e5-eb2f-4146-b9c2-3c01659da8ac",
   "metadata": {},
   "outputs": [
    {
     "name": "stdout",
     "output_type": "stream",
     "text": [
      "[[0 0 0]\n",
      " [0 0 0]\n",
      " [0 0 0]]\n"
     ]
    }
   ],
   "source": [
    "m = np.zeros((3, 3), dtype=int)\n",
    "print(m)"
   ]
  },
  {
   "cell_type": "markdown",
   "id": "1e1815f9-f692-4a6f-93a4-665c1db87a74",
   "metadata": {},
   "source": [
    "### 3. Створіть масив розміром 5x5, заповніть його випадковими цілими числами в діапазоні від 1 до 10 та виведіть його значення."
   ]
  },
  {
   "cell_type": "code",
   "execution_count": 94,
   "id": "5123190d-899b-43e3-8310-29f57b822945",
   "metadata": {},
   "outputs": [
    {
     "name": "stdout",
     "output_type": "stream",
     "text": [
      "[[ 9  6  3  2 10]\n",
      " [ 3  7 10  7  5]\n",
      " [ 2  5  5  1  7]\n",
      " [10  9  4  5  2]\n",
      " [ 4  6  7  8  8]]\n"
     ]
    }
   ],
   "source": [
    "m = np.random.randint(1, 11, (5, 5))\n",
    "print(m)"
   ]
  },
  {
   "cell_type": "markdown",
   "id": "d8ccce2b-5760-466b-98e2-adaa236c7b44",
   "metadata": {},
   "source": [
    "#### 4. Створіть масив розміром 4x4, заповніть його випадковими дійсними числами в діапазоні від 0 до 1 та виведіть його значення."
   ]
  },
  {
   "cell_type": "code",
   "execution_count": 32,
   "id": "727ba492-e575-4d44-80da-ef58a38d661b",
   "metadata": {},
   "outputs": [
    {
     "name": "stdout",
     "output_type": "stream",
     "text": [
      "[[0 1 0 1]\n",
      " [1 1 0 0]\n",
      " [1 1 1 0]\n",
      " [1 1 1 1]]\n"
     ]
    }
   ],
   "source": [
    "m = np.random.randint(0, 2, (4, 4))\n",
    "print(m)"
   ]
  },
  {
   "cell_type": "markdown",
   "id": "50c49917-b4e2-4b02-9584-fbb2a1415e59",
   "metadata": {},
   "source": [
    "#### 5. Створіть два одновимірних масиви розміром 5, заповніть їх випадковими цілими числами в діапазоні від 1 до 10 та виконайте на них поелементні операції додавання, віднімання та множення."
   ]
  },
  {
   "cell_type": "code",
   "execution_count": 44,
   "id": "648239fa-5d86-404d-bf89-b9808de79075",
   "metadata": {},
   "outputs": [
    {
     "name": "stdout",
     "output_type": "stream",
     "text": [
      "a = [9 5 2 7 2]\n",
      "b = [ 3  3 10  6  2]\n",
      "a + b = [12  8 12 13  4]\n",
      "a - b = [ 6  2 -8  1  0]\n",
      "a * b = [27 15 20 42  4]\n"
     ]
    }
   ],
   "source": [
    "a = np.random.randint(1, 11, 5)\n",
    "b = np.random.randint(1, 11, 5)\n",
    "print(f'a = {a}')\n",
    "print(f'b = {b}')\n",
    "print(f'a + b = {a+b}')\n",
    "print(f'a - b = {a-b}')\n",
    "print(f'a * b = {a*b}')"
   ]
  },
  {
   "cell_type": "markdown",
   "id": "0a7ecf6f-a3db-48ba-92a4-69f6c687adbb",
   "metadata": {},
   "source": [
    "#### 6. Створіть два вектори розміром 7, заповніть довільними числами та знайдіть їх скалярний добуток."
   ]
  },
  {
   "cell_type": "code",
   "execution_count": 53,
   "id": "6f9ff7be-8fb5-4da3-ad93-a54ea5baef2c",
   "metadata": {},
   "outputs": [
    {
     "name": "stdout",
     "output_type": "stream",
     "text": [
      "a = [0.4172126  0.81834357 0.81218567 0.48601078 0.5046514  0.88676141\n",
      " 0.78902515]\n",
      "b = [0.92717288 0.05979733 0.41884059 0.03689777 0.15838809 0.88636148\n",
      " 0.92292973]\n",
      "scalar product = 2.38800869525521\n"
     ]
    }
   ],
   "source": [
    "a = np.random.rand(7)\n",
    "b = np.random.rand(7)\n",
    "print(f'a = {a}')\n",
    "print(f'b = {b}')\n",
    "print(f'scalar product = {np.dot(a, b)}')"
   ]
  },
  {
   "cell_type": "markdown",
   "id": "b3c6339b-7f8d-4c83-b2eb-3a5065a56cef",
   "metadata": {},
   "source": [
    "#### 7. Створіть дві матриці розміром 2x2 та 2x3, заповніть їх випадковими цілими числами в діапазоні від 1 до 10 та перемножте їх між собою."
   ]
  },
  {
   "cell_type": "code",
   "execution_count": 59,
   "id": "0e5860ca-64b0-4e99-97f6-a099320be7c8",
   "metadata": {},
   "outputs": [
    {
     "name": "stdout",
     "output_type": "stream",
     "text": [
      "[[6 9]\n",
      " [2 1]]\n",
      "[[6 4 1]\n",
      " [5 4 2]]\n",
      "[[81 60 24]\n",
      " [17 12  4]]\n"
     ]
    }
   ],
   "source": [
    "a = np.random.randint(1, 11, (2, 2))\n",
    "b = np.random.randint(1, 11, (2, 3))\n",
    "c = np.dot(a, b)\n",
    "print(a)\n",
    "print(b)\n",
    "print(c)"
   ]
  },
  {
   "cell_type": "markdown",
   "id": "8b09587b-b450-4c4b-90af-af9f2e794dcf",
   "metadata": {},
   "source": [
    "#### 8. Створіть матрицю розміром 3x3, заповніть її випадковими цілими числами в діапазоні від 1 до 10 та знайдіть її обернену матрицю."
   ]
  },
  {
   "cell_type": "code",
   "execution_count": 60,
   "id": "298e71dc-58c6-41ca-8f0c-2c4c5d194f5e",
   "metadata": {},
   "outputs": [
    {
     "name": "stdout",
     "output_type": "stream",
     "text": [
      "[[ 7  4 10]\n",
      " [10  3  5]\n",
      " [ 6  1  2]]\n",
      "[[-0.03030303 -0.06060606  0.3030303 ]\n",
      " [-0.3030303   1.39393939 -1.96969697]\n",
      " [ 0.24242424 -0.51515152  0.57575758]]\n"
     ]
    }
   ],
   "source": [
    "a = np.random.randint(1, 11, (3, 3))\n",
    "a_inv = np.linalg.inv(a)\n",
    "print(a)\n",
    "print(a_inv)"
   ]
  },
  {
   "cell_type": "markdown",
   "id": "53cb2013-4180-41f1-9e37-64dd55a55eaa",
   "metadata": {},
   "source": [
    "#### 9. Створіть матрицю розміром 4x4, заповніть її випадковими дійсними числами в діапазоні від 0 до 1 та транспонуйте її."
   ]
  },
  {
   "cell_type": "code",
   "execution_count": 71,
   "id": "e18976a9-3618-41bb-b358-ec06c3c3a9ec",
   "metadata": {},
   "outputs": [
    {
     "name": "stdout",
     "output_type": "stream",
     "text": [
      "[[1 1 1 1]\n",
      " [1 0 1 0]\n",
      " [0 1 0 1]\n",
      " [0 0 0 0]]\n",
      "[[1 1 0 0]\n",
      " [1 0 1 0]\n",
      " [1 1 0 0]\n",
      " [1 0 1 0]]\n"
     ]
    }
   ],
   "source": [
    "a = np.random.randint(0, 2, (4, 4))\n",
    "b = a.T\n",
    "print(a)\n",
    "print(b)"
   ]
  },
  {
   "cell_type": "markdown",
   "id": "6da55d1c-6d50-4005-b882-2ba3e41d73d6",
   "metadata": {},
   "source": [
    "#### 10. Створіть матрицю розміром 3x4 та вектор розміром 4, заповніть їх випадковими цілими числами в діапазоні від 1 до 10 та перемножте матрицю на вектор."
   ]
  },
  {
   "cell_type": "code",
   "execution_count": 91,
   "id": "d1ee0f21-e254-4faf-8c23-63157a094ba9",
   "metadata": {},
   "outputs": [
    {
     "name": "stdout",
     "output_type": "stream",
     "text": [
      "[[ 3 10  3 10]\n",
      " [10  4 10  1]\n",
      " [ 2 10  1  7]]\n",
      "[ 1.  4.  7. 10.]\n",
      "[164. 106. 119.]\n"
     ]
    }
   ],
   "source": [
    "a = np.random.randint(1, 11, (3, 4))\n",
    "b = np.linspace(1, 10, 4)\n",
    "c = np.dot(a, b)\n",
    "print(a)\n",
    "print(b)\n",
    "print(c)"
   ]
  },
  {
   "cell_type": "markdown",
   "id": "d4f34a32-b9b4-4f28-9a4a-30d06fb2cec6",
   "metadata": {},
   "source": [
    "#### 11. Створіть матрицю розміром 2x3 та вектор розміром 3, заповніть їх випадковими дійсними числами в діапазоні від 0 до 1 та перемножте матрицю на вектор."
   ]
  },
  {
   "cell_type": "code",
   "execution_count": 109,
   "id": "415c143b-36dc-4a50-849d-2bfba5ab85d9",
   "metadata": {},
   "outputs": [
    {
     "name": "stdout",
     "output_type": "stream",
     "text": [
      "[[0.58150269 0.10927908 0.55191026]\n",
      " [0.33826145 0.91135577 0.60730221]]\n",
      "[0. 1. 2.]\n",
      "[1.2130996  2.12596019]\n"
     ]
    }
   ],
   "source": [
    "a = np.random.rand(2, 3)\n",
    "b = np.linspace(0, 2, 3)\n",
    "c = np.dot(a, b)\n",
    "print(a)\n",
    "print(b)\n",
    "print(c)"
   ]
  },
  {
   "cell_type": "markdown",
   "id": "feb6ecba-f21f-40e3-afa8-5013b36be572",
   "metadata": {},
   "source": [
    "#### 12. Створіть дві матриці розміром 2x2, заповніть їх випадковими цілими числами в діапазоні від 1 до 10 та виконайте їхнє поелементне множення."
   ]
  },
  {
   "cell_type": "code",
   "execution_count": 110,
   "id": "850acdb5-8aa4-4c01-98a8-198532771763",
   "metadata": {},
   "outputs": [
    {
     "name": "stdout",
     "output_type": "stream",
     "text": [
      "[[6 1]\n",
      " [4 9]]\n",
      "[[ 3  6]\n",
      " [ 4 10]]\n",
      "[[18  6]\n",
      " [16 90]]\n"
     ]
    }
   ],
   "source": [
    "a = np.random.randint(1, 11, (2, 2))\n",
    "b = np.random.randint(1, 11, (2, 2))\n",
    "c = a * b\n",
    "print(a)\n",
    "print(b)\n",
    "print(c)"
   ]
  },
  {
   "cell_type": "markdown",
   "id": "4196b477-8a01-41b2-bb64-2bbf9fb5643e",
   "metadata": {},
   "source": [
    "#### 13. Створіть дві матриці розміром 2x2, заповніть їх випадковими цілими числами в діапазоні від 1 до 10 та знайдіть їх добуток"
   ]
  },
  {
   "cell_type": "code",
   "execution_count": 112,
   "id": "b4f7d487-1b30-4853-a4a3-eec229f03233",
   "metadata": {},
   "outputs": [
    {
     "name": "stdout",
     "output_type": "stream",
     "text": [
      "[[4 6]\n",
      " [5 4]]\n",
      "[[3 9]\n",
      " [5 5]]\n",
      "[[42 66]\n",
      " [35 65]]\n"
     ]
    }
   ],
   "source": [
    "a = np.random.randint(1, 11, (2, 2))\n",
    "b = np.random.randint(1, 11, (2, 2))\n",
    "c = np.dot(a, b)\n",
    "print(a)\n",
    "print(b)\n",
    "print(c)"
   ]
  },
  {
   "cell_type": "markdown",
   "id": "61525771-6e85-40cc-9451-3e6d236bb9b3",
   "metadata": {},
   "source": [
    "#### 14. Створіть матрицю розміром 5x5, заповніть її випадковими цілими числами в діапазоні від 1 до 100 та знайдіть суму елементів матриці."
   ]
  },
  {
   "cell_type": "code",
   "execution_count": 114,
   "id": "c39f6eba-de08-48c7-bd8d-6700f3f41062",
   "metadata": {},
   "outputs": [
    {
     "name": "stdout",
     "output_type": "stream",
     "text": [
      "[[24 55 79 49 20]\n",
      " [31 29 41 89 51]\n",
      " [52 98 54 58 29]\n",
      " [48  5 64 17 34]\n",
      " [33 67 56 91 59]]\n",
      "1233\n"
     ]
    }
   ],
   "source": [
    "a = np.random.randint(1, 101, (5, 5))\n",
    "print(a)\n",
    "print(a.sum())"
   ]
  },
  {
   "cell_type": "markdown",
   "id": "df56b460-f7aa-451a-8b9c-9e8bd3c344e6",
   "metadata": {},
   "source": [
    "#### 15. Створіть дві матриці розміром 4x4, заповніть їх випадковими цілими числами в діапазоні від 1 до 10 та знайдіть їхню різницю."
   ]
  },
  {
   "cell_type": "code",
   "execution_count": 115,
   "id": "aebc2c0a-1813-424e-9c6e-573217783c23",
   "metadata": {},
   "outputs": [
    {
     "name": "stdout",
     "output_type": "stream",
     "text": [
      "[[8 1 2 1]\n",
      " [3 3 4 2]\n",
      " [4 1 8 7]\n",
      " [3 8 8 3]]\n",
      "[[ 9  7 10  7]\n",
      " [10  7  5  6]\n",
      " [ 3  9 10  7]\n",
      " [ 7  3  2  7]]\n",
      "[[-1 -6 -8 -6]\n",
      " [-7 -4 -1 -4]\n",
      " [ 1 -8 -2  0]\n",
      " [-4  5  6 -4]]\n"
     ]
    }
   ],
   "source": [
    "a = np.random.randint(1, 11, (4, 4))\n",
    "b = np.random.randint(1, 11, (4, 4))\n",
    "c = a - b\n",
    "print(a)\n",
    "print(b)\n",
    "print(c)"
   ]
  },
  {
   "cell_type": "markdown",
   "id": "5069d8d8-0c08-4dda-8684-73e770cfcef0",
   "metadata": {},
   "source": [
    "#### 16. Створіть матрицю розміром 3x3, заповніть її випадковими дійсними числами в діапазоні від 0 до 1 та знайдіть вектор-стовпчик, що містить суму елементів кожного рядка матриці."
   ]
  },
  {
   "cell_type": "code",
   "execution_count": 122,
   "id": "ebdf5665-9a1d-4355-bbeb-bf61ccc214ac",
   "metadata": {},
   "outputs": [
    {
     "name": "stdout",
     "output_type": "stream",
     "text": [
      "[[0.56486379 0.86366527 0.71217578]\n",
      " [0.48026562 0.97053184 0.58014695]\n",
      " [0.46911358 0.53779276 0.44160325]]\n",
      "[2.14070484 2.03094442 1.44850959]\n"
     ]
    }
   ],
   "source": [
    "a = np.random.rand(3, 3)\n",
    "b = a.sum(axis=1)\n",
    "print(a)\n",
    "print(b)"
   ]
  },
  {
   "cell_type": "markdown",
   "id": "cbe2042c-43cd-4d5b-9f94-d06104909d17",
   "metadata": {},
   "source": [
    "#### 17. Створіть матрицю розміром 3x4 з довільними цілими числами і створіть матрицю з квадратами цих чисел."
   ]
  },
  {
   "cell_type": "code",
   "execution_count": 125,
   "id": "e998074c-67fb-4a91-abd9-22e5b751fa1a",
   "metadata": {},
   "outputs": [
    {
     "name": "stdout",
     "output_type": "stream",
     "text": [
      "[[ 5  8  6  7]\n",
      " [ 4  1  9  3]\n",
      " [ 4 10  2  5]]\n",
      "[[ 25  64  36  49]\n",
      " [ 16   1  81   9]\n",
      " [ 16 100   4  25]]\n"
     ]
    }
   ],
   "source": [
    "a = np.random.randint(1, 11, (3, 4))\n",
    "b = a ** 2\n",
    "print(a)\n",
    "print(b)"
   ]
  },
  {
   "cell_type": "markdown",
   "id": "19f68f3c-5c69-41b0-a702-f2b7766d3cab",
   "metadata": {},
   "source": [
    "#### 18. Створіть вектор розміром 4, заповніть його випадковими цілими числами в діапазоні від 1 до 50 та знайдіть вектор з квадратними коренями цих чисел"
   ]
  },
  {
   "cell_type": "code",
   "execution_count": 131,
   "id": "5200dd8c-a913-46e2-aa88-be6142205ea3",
   "metadata": {},
   "outputs": [
    {
     "name": "stdout",
     "output_type": "stream",
     "text": [
      "[ 1 17 33 50]\n",
      "[1.         4.12310563 5.74456265 7.07106781]\n"
     ]
    }
   ],
   "source": [
    "a = np.linspace(1, 50, 4, dtype=int)\n",
    "b = a ** 0.5\n",
    "print(a)\n",
    "print(b)"
   ]
  }
 ],
 "metadata": {
  "kernelspec": {
   "display_name": "Python 3 (ipykernel)",
   "language": "python",
   "name": "python3"
  },
  "language_info": {
   "codemirror_mode": {
    "name": "ipython",
    "version": 3
   },
   "file_extension": ".py",
   "mimetype": "text/x-python",
   "name": "python",
   "nbconvert_exporter": "python",
   "pygments_lexer": "ipython3",
   "version": "3.11.2"
  }
 },
 "nbformat": 4,
 "nbformat_minor": 5
}
